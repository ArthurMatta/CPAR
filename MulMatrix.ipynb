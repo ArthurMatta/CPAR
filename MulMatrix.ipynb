{
 "cells": [
  {
   "cell_type": "code",
   "execution_count": 36,
   "metadata": {},
   "outputs": [],
   "source": [
    "def stdMul(size):\n",
    "    print('Standard Multiplication')\n",
    "    \n",
    "    ma = [[j + 1 + (i * size) for j in range(size)] for i in range(size)]\n",
    "    mb = [[j + 1 + (i * size) for j in range(size)] for i in range(size)]\n",
    "    mc = [[0 for j in range(size)] for i in range(size)]\n",
    "    \n",
    "    mb.reverse()\n",
    "    \n",
    "    print(\"Matrix A = \" + str(ma))\n",
    "    print(\"Matrix B = \" + str(mb))\n",
    "    print(\"Matrix C = \" + str(mc))\n",
    "    \n",
    "\n",
    "def lineMul(size):\n",
    "    print('Line Multiplication')\n",
    "    pass"
   ]
  },
  {
   "cell_type": "code",
   "execution_count": 37,
   "metadata": {},
   "outputs": [
    {
     "name": "stdout",
     "output_type": "stream",
     "text": [
      "Matrix multiplication\n",
      "1. Standard multiplication\n",
      "2. Line multiplication\n",
      "Selection? 1\n",
      "\n",
      "\n",
      "Dimension? 5\n",
      "Standard Multiplication\n",
      "Matrix A = [[1, 2, 3, 4, 5], [6, 7, 8, 9, 10], [11, 12, 13, 14, 15], [16, 17, 18, 19, 20], [21, 22, 23, 24, 25]]\n",
      "Matrix B = [[21, 22, 23, 24, 25], [16, 17, 18, 19, 20], [11, 12, 13, 14, 15], [6, 7, 8, 9, 10], [1, 2, 3, 4, 5]]\n",
      "Matrix C = [[0, 0, 0, 0, 0], [0, 0, 0, 0, 0], [0, 0, 0, 0, 0], [0, 0, 0, 0, 0], [0, 0, 0, 0, 0]]\n"
     ]
    }
   ],
   "source": [
    "while True:\n",
    "    print(\"Matrix multiplication\")\n",
    "    print(\"1. Standard multiplication\")\n",
    "    print(\"2. Line multiplication\")\n",
    "\n",
    "    option = int(input(\"Selection? \"))\n",
    "  \n",
    "    if option not in [0,1,2]:\n",
    "        print('\\nInvalid value. Value must be 1 or 2, or 0 to quit\\n')\n",
    "        continue\n",
    "    elif option == 0:\n",
    "        break\n",
    "        \n",
    "    print('\\n')\n",
    " \n",
    "    size = int(input('Dimension? '))\n",
    " \n",
    "    if option == 1:\n",
    "        stdMul(size)\n",
    "        break\n",
    "    else:\n",
    "        lineMul(size)\n",
    "        break"
   ]
  },
  {
   "cell_type": "code",
   "execution_count": null,
   "metadata": {},
   "outputs": [],
   "source": []
  }
 ],
 "metadata": {
  "kernelspec": {
   "display_name": "Python 3",
   "language": "python",
   "name": "python3"
  },
  "language_info": {
   "codemirror_mode": {
    "name": "ipython",
    "version": 3
   },
   "file_extension": ".py",
   "mimetype": "text/x-python",
   "name": "python",
   "nbconvert_exporter": "python",
   "pygments_lexer": "ipython3",
   "version": "3.7.2"
  }
 },
 "nbformat": 4,
 "nbformat_minor": 2
}
