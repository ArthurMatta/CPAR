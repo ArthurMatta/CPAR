{
 "cells": [
  {
   "cell_type": "code",
   "execution_count": 2,
   "metadata": {},
   "outputs": [],
   "source": [
    "import random\n",
    "import time\n",
    "import numpy as np"
   ]
  },
  {
   "cell_type": "code",
   "execution_count": 3,
   "metadata": {},
   "outputs": [],
   "source": [
    "def stdMul(A, B):\n",
    "    \"\"\"\n",
    "    Multiplies two given matrixes.\n",
    "    \"\"\"\n",
    "    C = []\n",
    "    row = []\n",
    "    ma = list(A)\n",
    "    mb = list(B)\n",
    "    start = time.perf_counter()\n",
    "    for i in range(len(A)):\n",
    "        for j in range(len(B[0])):\n",
    "            temp = 0\n",
    "            for k in range(len(B)):\n",
    "                temp += ma[i][k] * mb[k][j]\n",
    "            row.append(temp)\n",
    "        C.append(row)\n",
    "    end = time.perf_counter()\n",
    "    \n",
    "    print(\"Elapsed Time: {elapsed:f} s\".format(elapsed=(end-start)))\n",
    "    \n",
    "    C = np.matrix(C)\n",
    "    \n",
    "    return C"
   ]
  },
  {
   "cell_type": "code",
   "execution_count": 4,
   "metadata": {},
   "outputs": [],
   "source": [
    "def lineMul(A, B):\n",
    "    \"\"\"\n",
    "    Multiplies two given matrixes by multiplying one element of the first matrix by the correspondent line of the second matrix\n",
    "    \"\"\"\n",
    "    size = len(A)\n",
    "    C = createZeroMatrix(size)\n",
    "    \n",
    "    start = time.perf_counter()\n",
    "    for i in range(size):\n",
    "        for j in range(size):\n",
    "            C[i] += A[i][j] * B[j]\n",
    "    end = time.perf_counter()\n",
    "    \n",
    "    print(\"Elapsed Time: {elapsed:f} s\".format(elapsed=(end-start)))\n",
    "    \n",
    "    return C"
   ]
  },
  {
   "cell_type": "code",
   "execution_count": 16,
   "metadata": {},
   "outputs": [],
   "source": [
    "def blockMul(A, B, block_size=128):\n",
    "    \"\"\"\n",
    "    Multiplies two given matrixes breaking them into small blocks of size block_size\n",
    "    \"\"\"\n",
    "    size = len(A)\n",
    "    ma = list(A)\n",
    "    mb = list(B)\n",
    "    mc = [[0 for j in range(len(B[0]))] for i in range(len(A))]\n",
    "    \n",
    "    start = time.perf_counter()\n",
    "    for i0 in range(0, size, block_size):\n",
    "        for j0 in range(0, size, block_size):\n",
    "            for k0 in range(0, size, block_size):\n",
    "                for i in range(i0, min(i0 + block_size, size)):\n",
    "                    for j in range(j0, min(j0 + block_size, size)):\n",
    "                        temp = 0\n",
    "                        for k in range(k0, min(k0 + block_size, size)):\n",
    "                            temp += ma[i][k] * mb[k][j]\n",
    "                        mc[i][j] += temp\n",
    "    end = time.perf_counter()\n",
    "    \n",
    "    print(\"Elapsed Time: {elapsed:f} s\".format(elapsed=(end-start)))\n",
    "    \n",
    "    C = np.matrix(mc)\n",
    "    \n",
    "    return C"
   ]
  },
  {
   "cell_type": "code",
   "execution_count": 10,
   "metadata": {},
   "outputs": [],
   "source": [
    "def createRandomMatrix(size, lower, higher):\n",
    "    \"\"\"\n",
    "    Returns a matrix of size 'size' with random values in [lower, higher).\n",
    "    \"\"\"\n",
    "    return np.random.randint(lower, higher, (size, size))\n",
    "\n",
    "def createZeroMatrix(size):\n",
    "    \"\"\"\n",
    "    Returns a zero matrix of size 'size'.\n",
    "    \"\"\"\n",
    "    return np.zeros(shape=(size, size))"
   ]
  },
  {
   "cell_type": "code",
   "execution_count": 11,
   "metadata": {},
   "outputs": [],
   "source": [
    "def printMatrix(matrix):\n",
    "    \"\"\"\n",
    "    Print a matrix in a user-friendly way.\n",
    "    \"\"\"\n",
    "    size = len(matrix)\n",
    "    string = \"\"\n",
    "    \n",
    "    for i in range(size):\n",
    "        string += \"|\"\n",
    "        for j in range(size):\n",
    "            string += \" \"\n",
    "            string += \"{value:05.0f}\".format(value=matrix[i][j])\n",
    "            \n",
    "        string += \" |\\n\"\n",
    "        \n",
    "    print(string)"
   ]
  },
  {
   "cell_type": "code",
   "execution_count": 18,
   "metadata": {
    "scrolled": false
   },
   "outputs": [
    {
     "name": "stdout",
     "output_type": "stream",
     "text": [
      "Matrix multiplication\n",
      "1. Standard multiplication\n",
      "2. Line multiplication\n",
      "3. Block multiplication\n",
      "Selection? 3\n",
      "Dimension? 3000\n",
      "Block Multiplication\n",
      "Block size: 512\n"
     ]
    },
    {
     "ename": "KeyboardInterrupt",
     "evalue": "",
     "output_type": "error",
     "traceback": [
      "\u001b[0;31m---------------------------------------------------------------------------\u001b[0m",
      "\u001b[0;31mKeyboardInterrupt\u001b[0m                         Traceback (most recent call last)",
      "\u001b[0;32m<ipython-input-18-3c01c20860cc>\u001b[0m in \u001b[0;36m<module>\u001b[0;34m\u001b[0m\n\u001b[1;32m     33\u001b[0m         \u001b[0mprint\u001b[0m\u001b[0;34m(\u001b[0m\u001b[0;34m\"Block Multiplication\"\u001b[0m\u001b[0;34m)\u001b[0m\u001b[0;34m\u001b[0m\u001b[0;34m\u001b[0m\u001b[0m\n\u001b[1;32m     34\u001b[0m         \u001b[0mblock_size\u001b[0m \u001b[0;34m=\u001b[0m \u001b[0mint\u001b[0m\u001b[0;34m(\u001b[0m\u001b[0minput\u001b[0m\u001b[0;34m(\u001b[0m\u001b[0;34m\"Block size: \"\u001b[0m\u001b[0;34m)\u001b[0m\u001b[0;34m)\u001b[0m\u001b[0;34m\u001b[0m\u001b[0;34m\u001b[0m\u001b[0m\n\u001b[0;32m---> 35\u001b[0;31m         \u001b[0mmc\u001b[0m \u001b[0;34m=\u001b[0m \u001b[0mblockMul\u001b[0m\u001b[0;34m(\u001b[0m\u001b[0mma\u001b[0m\u001b[0;34m,\u001b[0m \u001b[0mmb\u001b[0m\u001b[0;34m,\u001b[0m \u001b[0mblock_size\u001b[0m\u001b[0;34m)\u001b[0m\u001b[0;34m\u001b[0m\u001b[0;34m\u001b[0m\u001b[0m\n\u001b[0m\u001b[1;32m     36\u001b[0m         \u001b[0;32mbreak\u001b[0m\u001b[0;34m\u001b[0m\u001b[0;34m\u001b[0m\u001b[0m\n\u001b[1;32m     37\u001b[0m \u001b[0;34m\u001b[0m\u001b[0m\n",
      "\u001b[0;32m<ipython-input-16-fdf74abe51ea>\u001b[0m in \u001b[0;36mblockMul\u001b[0;34m(A, B, block_size)\u001b[0m\n\u001b[1;32m     16\u001b[0m                         \u001b[0mtemp\u001b[0m \u001b[0;34m=\u001b[0m \u001b[0;36m0\u001b[0m\u001b[0;34m\u001b[0m\u001b[0;34m\u001b[0m\u001b[0m\n\u001b[1;32m     17\u001b[0m                         \u001b[0;32mfor\u001b[0m \u001b[0mk\u001b[0m \u001b[0;32min\u001b[0m \u001b[0mrange\u001b[0m\u001b[0;34m(\u001b[0m\u001b[0mk0\u001b[0m\u001b[0;34m,\u001b[0m \u001b[0mmin\u001b[0m\u001b[0;34m(\u001b[0m\u001b[0mk0\u001b[0m \u001b[0;34m+\u001b[0m \u001b[0mblock_size\u001b[0m\u001b[0;34m,\u001b[0m \u001b[0msize\u001b[0m\u001b[0;34m)\u001b[0m\u001b[0;34m)\u001b[0m\u001b[0;34m:\u001b[0m\u001b[0;34m\u001b[0m\u001b[0;34m\u001b[0m\u001b[0m\n\u001b[0;32m---> 18\u001b[0;31m                             \u001b[0mtemp\u001b[0m \u001b[0;34m+=\u001b[0m \u001b[0mma\u001b[0m\u001b[0;34m[\u001b[0m\u001b[0mi\u001b[0m\u001b[0;34m]\u001b[0m\u001b[0;34m[\u001b[0m\u001b[0mk\u001b[0m\u001b[0;34m]\u001b[0m \u001b[0;34m*\u001b[0m \u001b[0mmb\u001b[0m\u001b[0;34m[\u001b[0m\u001b[0mk\u001b[0m\u001b[0;34m]\u001b[0m\u001b[0;34m[\u001b[0m\u001b[0mj\u001b[0m\u001b[0;34m]\u001b[0m\u001b[0;34m\u001b[0m\u001b[0;34m\u001b[0m\u001b[0m\n\u001b[0m\u001b[1;32m     19\u001b[0m                         \u001b[0mmc\u001b[0m\u001b[0;34m[\u001b[0m\u001b[0mi\u001b[0m\u001b[0;34m]\u001b[0m\u001b[0;34m[\u001b[0m\u001b[0mj\u001b[0m\u001b[0;34m]\u001b[0m \u001b[0;34m+=\u001b[0m \u001b[0mtemp\u001b[0m\u001b[0;34m\u001b[0m\u001b[0;34m\u001b[0m\u001b[0m\n\u001b[1;32m     20\u001b[0m     \u001b[0mend\u001b[0m \u001b[0;34m=\u001b[0m \u001b[0mtime\u001b[0m\u001b[0;34m.\u001b[0m\u001b[0mperf_counter\u001b[0m\u001b[0;34m(\u001b[0m\u001b[0;34m)\u001b[0m\u001b[0;34m\u001b[0m\u001b[0;34m\u001b[0m\u001b[0m\n",
      "\u001b[0;31mKeyboardInterrupt\u001b[0m: "
     ]
    }
   ],
   "source": [
    "while True:\n",
    "    print(\"Matrix multiplication\")\n",
    "    print(\"1. Standard multiplication\")\n",
    "    print(\"2. Line multiplication\")\n",
    "    print(\"3. Block multiplication\")\n",
    "\n",
    "    option = int(input(\"Selection? \"))\n",
    "  \n",
    "    if option not in [0,1,2, 3]:\n",
    "        print('\\nInvalid value. Value must be 1, 2 or 3; or 0 to quit\\n')\n",
    "        continue\n",
    "    elif option == 0:\n",
    "        break\n",
    "        \n",
    "    size = int(input('Dimension? '))\n",
    "    \n",
    "    if size <= 0:\n",
    "        print('Invalid dimension.\\n')\n",
    "        continue\n",
    "    \n",
    "    ma = createRandomMatrix(size, 0, 101)\n",
    "    mb = createRandomMatrix(size, 0, 101)\n",
    "    \n",
    "    if option == 1:\n",
    "        print(\"Standard Multiplication\")\n",
    "        mc = stdMul(ma, mb)\n",
    "        break\n",
    "    elif option == 2:\n",
    "        print(\"Line Multiplication\")\n",
    "        mc = lineMul(ma, mb)\n",
    "        break\n",
    "    else:\n",
    "        print(\"Block Multiplication\")\n",
    "        block_size = int(input(\"Block size: \"))\n",
    "        mc = blockMul(ma, mb, block_size)\n",
    "        break\n",
    "        "
   ]
  },
  {
   "cell_type": "code",
   "execution_count": null,
   "metadata": {},
   "outputs": [],
   "source": []
  },
  {
   "cell_type": "code",
   "execution_count": null,
   "metadata": {},
   "outputs": [],
   "source": []
  }
 ],
 "metadata": {
  "kernelspec": {
   "display_name": "Python 3",
   "language": "python",
   "name": "python3"
  },
  "language_info": {
   "codemirror_mode": {
    "name": "ipython",
    "version": 3
   },
   "file_extension": ".py",
   "mimetype": "text/x-python",
   "name": "python",
   "nbconvert_exporter": "python",
   "pygments_lexer": "ipython3",
   "version": "3.7.1"
  }
 },
 "nbformat": 4,
 "nbformat_minor": 2
}
