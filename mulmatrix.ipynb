{
 "cells": [
  {
   "cell_type": "code",
   "execution_count": 20,
   "metadata": {},
   "outputs": [],
   "source": [
    "import random\n",
    "import time\n",
    "import numpy as np"
   ]
  },
  {
   "cell_type": "code",
   "execution_count": 21,
   "metadata": {},
   "outputs": [],
   "source": [
    "def stdMul(A, B):\n",
    "    \"\"\"\n",
    "    Multiplies two given matrixes and measure time taken to multiply them.\n",
    "    \"\"\"\n",
    "    start = time.perf_counter()\n",
    "    C = A @ B\n",
    "    end = time.perf_counter()\n",
    "    \n",
    "    print(\"Elapsed Time: {elapsed:f} s\".format(elapsed=(end-start)))\n",
    "    \n",
    "    return C"
   ]
  },
  {
   "cell_type": "code",
   "execution_count": 22,
   "metadata": {},
   "outputs": [],
   "source": [
    "def lineMul(A, B):\n",
    "    \"\"\"\n",
    "    Multiplies two given matrixes by multiplying one element of the first matrix by the correspondent line of the second matrix\n",
    "    \"\"\"\n",
    "    size = len(A)\n",
    "    C = np.zeros((size, size))\n",
    "    \n",
    "    start = time.perf_counter()\n",
    "    for i in range(size):\n",
    "        for j in range(size):\n",
    "            C[i] += A[i][j] * B[j]\n",
    "    end = time.perf_counter()\n",
    "    \n",
    "    print(\"Elapsed Time: {elapsed:f} s\".format(elapsed=(end-start)))\n",
    "    \n",
    "    return C"
   ]
  },
  {
   "cell_type": "code",
   "execution_count": 23,
   "metadata": {},
   "outputs": [],
   "source": [
    "def blockMul(A, B, block_size=128):\n",
    "    \"\"\"\n",
    "    Multiplies two given matrixes breaking them into small blocks of size block_size\n",
    "    \"\"\"\n",
    "    size = len(A)\n",
    "    C = np.zeros((size, size))\n",
    "    \n",
    "    start = time.perf_counter()\n",
    "    for i0 in range(0, size, block_size):\n",
    "        for j0 in range(0, size, block_size):\n",
    "            for k0 in range(0, size, block_size):\n",
    "                for i in range(i0, min(i0 + block_size, size)):\n",
    "                    for j in range(j0, min(j0 + block_size, size)):\n",
    "                        for k in range(k0, min(k0 + block_size, size)):\n",
    "                            C[i][j] += A[i][k] * B[k][j]\n",
    "    end = time.perf_counter()\n",
    "    \n",
    "    print(\"Elapsed Time: {elapsed:f} s\".format(elapsed=(end-start)))\n",
    "    \n",
    "    return C"
   ]
  },
  {
   "cell_type": "code",
   "execution_count": 24,
   "metadata": {},
   "outputs": [],
   "source": [
    "def createRandomMatrix(size):\n",
    "    \"\"\"\n",
    "    Returns a matrix of size 'size' with random values from 0 to 100.\n",
    "    \"\"\"\n",
    "    return np.random.randint(0,101,(size, size))\n",
    "\n",
    "def createZeroMatrix(size):\n",
    "    \"\"\"\n",
    "    Returns a zero matrix of size 'size'.\n",
    "    \"\"\"\n",
    "    return numpy.zeros(shape=(size, size))"
   ]
  },
  {
   "cell_type": "code",
   "execution_count": 25,
   "metadata": {},
   "outputs": [],
   "source": [
    "def printMatrix(matrix):\n",
    "    \"\"\"\n",
    "    Print a matrix in a user-friendly way.\n",
    "    \"\"\"\n",
    "    size = len(matrix)\n",
    "    string = \"\"\n",
    "    \n",
    "    for i in range(size):\n",
    "        string += \"|\"\n",
    "        for j in range(size):\n",
    "            string += \" \"\n",
    "            string += \"{value:05.0f}\".format(value=matrix[i][j])\n",
    "            \n",
    "        string += \" |\\n\"\n",
    "        \n",
    "    print(string)"
   ]
  },
  {
   "cell_type": "code",
   "execution_count": 26,
   "metadata": {},
   "outputs": [
    {
     "name": "stdout",
     "output_type": "stream",
     "text": [
      "Matrix multiplication\n",
      "1. Standard multiplication\n",
      "2. Line multiplication\n",
      "3. Block multiplication\n",
      "Selection? 1\n",
      "Dimension? 2\n",
      "Standard Multiplication\n",
      "Elapsed Time: 0.026097 s\n"
     ]
    }
   ],
   "source": [
    "while True:\n",
    "    print(\"Matrix multiplication\")\n",
    "    print(\"1. Standard multiplication\")\n",
    "    print(\"2. Line multiplication\")\n",
    "    print(\"3. Block multiplication\")\n",
    "\n",
    "    option = int(input(\"Selection? \"))\n",
    "  \n",
    "    if option not in [0,1,2, 3]:\n",
    "        print('\\nInvalid value. Value must be 1, 2 or 3; or 0 to quit\\n')\n",
    "        continue\n",
    "    elif option == 0:\n",
    "        break\n",
    "        \n",
    "    size = int(input('Dimension? '))\n",
    "    \n",
    "    if size <= 0:\n",
    "        print('Invalid dimension.\\n')\n",
    "        continue\n",
    "    \n",
    "    ma = createRandomMatrix(size)\n",
    "    mb = createRandomMatrix(size)\n",
    "    \n",
    "    if option == 1:\n",
    "        print(\"Standard Multiplication\")\n",
    "        mc = stdMul(ma, mb)\n",
    "        break\n",
    "    elif option == 2:\n",
    "        print(\"Line Multiplication\")\n",
    "        mc = lineMul(ma, mb)\n",
    "        break\n",
    "    else:\n",
    "        print(\"Block Multiplication\")\n",
    "        block_size = int(input(\"Block size: \"))\n",
    "        mc = blockMul(ma, mb, block_size)\n",
    "        break\n",
    "        "
   ]
  },
  {
   "cell_type": "code",
   "execution_count": null,
   "metadata": {},
   "outputs": [],
   "source": []
  },
  {
   "cell_type": "code",
   "execution_count": null,
   "metadata": {},
   "outputs": [],
   "source": []
  }
 ],
 "metadata": {
  "kernelspec": {
   "display_name": "Python 3",
   "language": "python",
   "name": "python3"
  },
  "language_info": {
   "codemirror_mode": {
    "name": "ipython",
    "version": 3
   },
   "file_extension": ".py",
   "mimetype": "text/x-python",
   "name": "python",
   "nbconvert_exporter": "python",
   "pygments_lexer": "ipython3",
   "version": "3.7.1"
  }
 },
 "nbformat": 4,
 "nbformat_minor": 2
}
