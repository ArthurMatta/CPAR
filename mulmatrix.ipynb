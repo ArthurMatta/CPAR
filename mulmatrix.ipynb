{
 "cells": [
  {
   "cell_type": "code",
   "execution_count": 1,
   "metadata": {},
   "outputs": [],
   "source": [
    "import random\n",
    "import time"
   ]
  },
  {
   "cell_type": "code",
   "execution_count": 2,
   "metadata": {},
   "outputs": [],
   "source": [
    "def stdMul(ma, mb, result):\n",
    "    \"\"\"\n",
    "    Multiplies two given matrixes and measure time taken to multiply them.\n",
    "    \"\"\"\n",
    "    size = len(ma)\n",
    "    start = 0\n",
    "    end = 0\n",
    "\n",
    "    start = time.process_time()\n",
    "    for i in range(size):\n",
    "        for k in range(size):\n",
    "            temp = 0\n",
    "            for j in range(size):\n",
    "                temp += ma[i][k] * mb[k][j]\n",
    "            result[i][j] = temp\n",
    "    end = time.process_time()\n",
    "    \n",
    "    print(\"Elapsed Time: {elapsed:.5f} s\".format(elapsed=(end-start)))"
   ]
  },
  {
   "cell_type": "code",
   "execution_count": 3,
   "metadata": {},
   "outputs": [],
   "source": [
    "def lineMul(matrixes):\n",
    "    print('Line Multiplication')\n",
    "    pass"
   ]
  },
  {
   "cell_type": "code",
   "execution_count": 4,
   "metadata": {},
   "outputs": [],
   "source": [
    "def createRandomMatrix(size):\n",
    "    \"\"\"\n",
    "    Returns a matrix of size 'size' filled with random integer numbers from 0 to 100.\n",
    "    \"\"\"\n",
    "    matrix = [[random.randint(0, 100) for j in range(size)] for i in range(size)]\n",
    "    \n",
    "    return matrix\n",
    "\n",
    "def createZeroMatrix(size):\n",
    "    \"\"\"\n",
    "    Returns a matrix of size 'size' filled with random integer numbers from 0 to 100.\n",
    "    \"\"\"\n",
    "    matrix = [[0 for j in range(size)] for i in range(size)]\n",
    "    \n",
    "    return matrix"
   ]
  },
  {
   "cell_type": "code",
   "execution_count": 5,
   "metadata": {},
   "outputs": [],
   "source": [
    "def printMatrix(matrix):\n",
    "    \"\"\"\n",
    "    Print a matrix in a user-friendly way.\n",
    "    \"\"\"\n",
    "    size = len(matrix)\n",
    "    string = \"\"\n",
    "    \n",
    "    for i in range(size):\n",
    "        string += \"|\"\n",
    "        for j in range(size):\n",
    "            string += \" \"\n",
    "            string += \"{value:03d}\".format(value=matrix[i][j])\n",
    "            \n",
    "        string += \" |\\n\"\n",
    "        \n",
    "    print(string)"
   ]
  },
  {
   "cell_type": "code",
   "execution_count": 6,
   "metadata": {},
   "outputs": [
    {
     "name": "stdout",
     "output_type": "stream",
     "text": [
      "Matrix multiplication\n",
      "1. Standard multiplication\n",
      "2. Line multiplication\n",
      "Selection? 1\n",
      "Dimension? 600\n",
      "Standard Multiplication\n",
      "Elapsed Time: 23.10045 s\n"
     ]
    }
   ],
   "source": [
    "while True:\n",
    "    print(\"Matrix multiplication\")\n",
    "    print(\"1. Standard multiplication\")\n",
    "    print(\"2. Line multiplication\")\n",
    "\n",
    "    option = int(input(\"Selection? \"))\n",
    "  \n",
    "    if option not in [0,1,2]:\n",
    "        print('\\nInvalid value. Value must be 1 or 2, or 0 to quit\\n')\n",
    "        continue\n",
    "    elif option == 0:\n",
    "        break\n",
    "        \n",
    "    size = int(input('Dimension? '))\n",
    "    \n",
    "    if size <= 0:\n",
    "        print('Invalid dimension.\\n')\n",
    "        continue\n",
    "    \n",
    "    ma = createRandomMatrix(size)\n",
    "    mb = createRandomMatrix(size)\n",
    "    mc = createZeroMatrix(size)\n",
    " \n",
    "    if option == 1:\n",
    "        print(\"Standard Multiplication\")\n",
    "        stdMul(ma, mb, mc)\n",
    "        break\n",
    "    else:\n",
    "        print(\"Line Multiplication\")\n",
    "#         lineMul(matrixes)\n",
    "        break"
   ]
  },
  {
   "cell_type": "code",
   "execution_count": null,
   "metadata": {},
   "outputs": [],
   "source": []
  }
 ],
 "metadata": {
  "kernelspec": {
   "display_name": "Python 3",
   "language": "python",
   "name": "python3"
  },
  "language_info": {
   "codemirror_mode": {
    "name": "ipython",
    "version": 3
   },
   "file_extension": ".py",
   "mimetype": "text/x-python",
   "name": "python",
   "nbconvert_exporter": "python",
   "pygments_lexer": "ipython3",
   "version": "3.7.1"
  }
 },
 "nbformat": 4,
 "nbformat_minor": 2
}
